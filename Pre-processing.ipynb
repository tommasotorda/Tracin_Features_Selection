{
 "cells": [
  {
   "cell_type": "code",
   "execution_count": 36,
   "id": "0f1a2ec7",
   "metadata": {},
   "outputs": [],
   "source": [
    "import numpy as np\n",
    "import os\n",
    "os.environ[\"CUDA_DEVICE_ORDER\"]=\"PCI_BUS_ID\"   # see issue #152\n",
    "os.environ[\"CUDA_VISIBLE_DEVICES\"]=\"1\"\n",
    "from nibabel.testing import data_path\n",
    "import nibabel as nib\n",
    "from glob import glob\n",
    "import matplotlib.pyplot as plt\n",
    "import tensorflow as tf\n",
    "from tensorflow import keras\n",
    "import time\n",
    "import datetime\n",
    "import json\n",
    "from collections import defaultdict"
   ]
  },
  {
   "cell_type": "code",
   "execution_count": 37,
   "id": "43460034",
   "metadata": {},
   "outputs": [],
   "source": [
    "import itertools\n",
    "from keras.models import load_model\n",
    "from keras.utils.vis_utils import plot_model\n",
    "from sklearn import preprocessing"
   ]
  },
  {
   "cell_type": "code",
   "execution_count": 38,
   "id": "dbf44e95",
   "metadata": {},
   "outputs": [
    {
     "name": "stderr",
     "output_type": "stream",
     "text": [
      "2023-09-16 22:46:14.423620: I tensorflow/core/common_runtime/gpu/gpu_device.cc:1510] Created device /job:localhost/replica:0/task:0/device:GPU:0 with 30967 MB memory:  -> device: 0, name: Tesla V100-SXM2-32GB, pci bus id: 0000:07:00.0, compute capability: 7.0\n"
     ]
    }
   ],
   "source": [
    "from tensorflow.compat.v1 import ConfigProto\n",
    "from tensorflow.compat.v1 import InteractiveSession\n",
    "\n",
    "config = ConfigProto()\n",
    "config.gpu_options.allow_growth = True\n",
    "session = InteractiveSession(config=config)"
   ]
  },
  {
   "cell_type": "code",
   "execution_count": 22,
   "id": "05bd80e7",
   "metadata": {},
   "outputs": [],
   "source": [
    "file_list = glob(os.path.join\n",
    "                 (\"/home/tordatom/Dati_Imaging/BraTs_19/MICCAI_BraTS_2019_Data_Training/HGG\",\n",
    "                  \"*\", \"\"))"
   ]
  },
  {
   "cell_type": "code",
   "execution_count": 9,
   "id": "d358445e",
   "metadata": {},
   "outputs": [],
   "source": [
    " exam_path = [np.sort(glob(os.path.join(file_list[i], \"*.nii.gz\"))) for i in range(len(file_list))]"
   ]
  },
  {
   "cell_type": "code",
   "execution_count": 10,
   "id": "408d3b9c",
   "metadata": {},
   "outputs": [],
   "source": [
    "def load_example(file_list):\n",
    "    \n",
    "    exam_path = [np.sort(glob(os.path.join(file_list[i], \"*.nii.gz\"))) for i in range(len(file_list))]\n",
    "    seg = np.zeros(np.append(len(file_list),nib.load(exam_path[0][0]).shape))\n",
    "    channels = np.zeros(np.append(seg.shape,4))\n",
    "    file_name = [i for i in file_list]\n",
    "    \n",
    "    for i in range(len(file_list)):\n",
    "       \n",
    "    \n",
    "        seg[i] = nib.load(exam_path[i][1]).dataobj\n",
    "    \n",
    "        for j,k in enumerate(sorted(list(set(exam_path[i]) - set([exam_path[i][1]])))):\n",
    "            \n",
    "            a = nib.load(k)\n",
    "            channels[i,:,:,:,j] = np.array(a.dataobj)\n",
    "    \n",
    "\n",
    "    return channels, seg, file_name"
   ]
  },
  {
   "cell_type": "code",
   "execution_count": 11,
   "id": "8e1e61d1",
   "metadata": {},
   "outputs": [],
   "source": [
    "def normalize(t1):\n",
    "    for i in range(len(t1[:,0,0,0,0])):\n",
    "        for j in range(len(t1[0,0,0,0,:])):\n",
    "            t1[i,:,:,:,j] = 2*t1[i,:,:,:,j]/np.max(t1[i,:,:,:,j])-1\n",
    "    return t1\n",
    "\n"
   ]
  },
  {
   "cell_type": "code",
   "execution_count": 12,
   "id": "ad1dd3b4",
   "metadata": {},
   "outputs": [],
   "source": [
    "def Twod(channels):\n",
    "    new = np.zeros((channels.shape[0]*channels.shape[3], channels.shape[1], channels.shape[2], channels.shape[4]))\n",
    "    for i in range(channels.shape[0]):\n",
    "        for j in range(channels.shape[3]):\n",
    "            new[channels.shape[3]*i+j] = channels[i,:,:,j,:]\n",
    "    return new"
   ]
  },
  {
   "cell_type": "code",
   "execution_count": 13,
   "id": "88adbba2",
   "metadata": {},
   "outputs": [],
   "source": [
    "from sklearn.model_selection import train_test_split\n",
    "train_to_test_ratio=0.9"
   ]
  },
  {
   "cell_type": "code",
   "execution_count": 14,
   "id": "9830fa19",
   "metadata": {},
   "outputs": [],
   "source": [
    "channels1, seg1, file_name = load_example(file_list)"
   ]
  },
  {
   "cell_type": "code",
   "execution_count": 15,
   "id": "97e45672",
   "metadata": {},
   "outputs": [],
   "source": [
    "#channels1, seg1, file_name = load_example(file_list)\n",
    "channels, seg = channels1[:,27:219, 27:219, 90:100, :], seg1[:,27:219, 27:219, 90:100]\n",
    "channels = normalize(channels)\n",
    "seg = seg.reshape(np.append(seg.shape,1))\n",
    "seg[seg == 4] = 3\n",
    "seg = keras.utils.to_categorical(seg)"
   ]
  },
  {
   "cell_type": "code",
   "execution_count": null,
   "id": "154df308",
   "metadata": {},
   "outputs": [],
   "source": [
    "X_train,X_test,Y_train,Y_test=train_test_split(np.array(channels),\n",
    "                                               np.array(seg),train_size=train_to_test_ratio,\n",
    "                                               shuffle=True, random_state=1234)\n",
    "\n",
    "X_train, Y_train = Twod(X_train),  Twod(Y_train)\n",
    "X_test, Y_test = Twod(X_test), Twod(Y_test)\n"
   ]
  },
  {
   "cell_type": "code",
   "execution_count": 76,
   "id": "bc5b0a9e",
   "metadata": {},
   "outputs": [],
   "source": [
    "for i in np.arange(0,X_train.shape[0], BATCH):\n",
    "    \n",
    "    file_name_train = 'Train_{0}'.format(i//BATCH)\n",
    "    if i+BATCH>=X_train.shape[0]:\n",
    "        np.savez(os.path.join('/home/tordatom/Dati_Imaging/BraTs_19/Segmentation2D/Crossvalidation/Data/DataTracin_train4' , file_name_train), \n",
    "                 X_train = X_train[i:], Y_train = Y_train[i:])\n",
    "        \n",
    "    np.savez(os.path.join('/home/tordatom/Dati_Imaging/BraTs_19/Segmentation2D/Crossvalidation/Data/DataTracin_train4' , file_name_train),\n",
    "             X_train = X_train[i:i+BATCH], Y_train = Y_train[i:i+BATCH])"
   ]
  },
  {
   "cell_type": "code",
   "execution_count": 59,
   "id": "71e8b3d5",
   "metadata": {},
   "outputs": [],
   "source": [
    "for i in np.arange(0,X_test.shape[0], BATCH):\n",
    "    \n",
    "    file_name_test = 'Test_{0}'.format(i//BATCH)\n",
    "    if i+BATCH>=X_test.shape[0]:\n",
    "        np.savez(os.path.join('/home/tordatom/Dati_Imaging/BraTs_19/Segmentation2D/Crossvalidation/Data/DataTest' , file_name_test), \n",
    "                 X_test = X_test[i:], Y_test = Y_test[i:])\n",
    "        \n",
    "    np.savez(os.path.join('/home/tordatom/Dati_Imaging/BraTs_19/Segmentation2D/Crossvalidation/Data/DataTest' , file_name_test),\n",
    "             X_test = X_test[i:i+BATCH], Y_test = Y_test[i:i+BATCH])"
   ]
  }
 ],
 "metadata": {
  "kernelspec": {
   "display_name": "Python 3 (ipykernel)",
   "language": "python",
   "name": "python3"
  },
  "language_info": {
   "codemirror_mode": {
    "name": "ipython",
    "version": 3
   },
   "file_extension": ".py",
   "mimetype": "text/x-python",
   "name": "python",
   "nbconvert_exporter": "python",
   "pygments_lexer": "ipython3",
   "version": "3.10.9"
  },
  "toc": {
   "base_numbering": 1,
   "nav_menu": {},
   "number_sections": true,
   "sideBar": true,
   "skip_h1_title": false,
   "title_cell": "Table of Contents",
   "title_sidebar": "Contents",
   "toc_cell": false,
   "toc_position": {},
   "toc_section_display": true,
   "toc_window_display": false
  }
 },
 "nbformat": 4,
 "nbformat_minor": 5
}
